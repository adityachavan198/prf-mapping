{
 "cells": [
  {
   "cell_type": "code",
   "execution_count": 2,
   "id": "fd2e650f-f413-4095-a7fd-a3292a7f3bf4",
   "metadata": {},
   "outputs": [],
   "source": [
    "import os as os\n",
    "import ctypes\n",
    "import pickle\n",
    "import multiprocessing as mp\n",
    "\n",
    "import tqdm\n",
    "import numpy as np\n",
    "from scipy.io import loadmat\n",
    "from scipy.signal import detrend\n",
    "import nibabel as nib\n",
    "\n",
    "import popeye.utilities as utils\n",
    "from popeye import css\n",
    "from popeye.visual_stimulus import VisualStimulus, resample_stimulus"
   ]
  },
  {
   "cell_type": "code",
   "execution_count": 3,
   "id": "f43e79a5-d237-42c7-9947-34a921166f9c",
   "metadata": {},
   "outputs": [],
   "source": [
    "f = open('css_results.pkl', 'rb')\n",
    "results = pickle.load(f)"
   ]
  },
  {
   "cell_type": "code",
   "execution_count": 5,
   "id": "f381c581-7b5f-4301-bfbf-f415e3827401",
   "metadata": {},
   "outputs": [],
   "source": [
    "output = [r for r in results if r is not None]"
   ]
  },
  {
   "cell_type": "code",
   "execution_count": 6,
   "id": "721e243d-4ff0-41fe-b5a1-dc31c515a8f8",
   "metadata": {},
   "outputs": [
    {
     "data": {
      "text/plain": [
       "218854"
      ]
     },
     "execution_count": 6,
     "metadata": {},
     "output_type": "execute_result"
    }
   ],
   "source": [
    "len(output)"
   ]
  },
  {
   "cell_type": "code",
   "execution_count": null,
   "id": "e98962cb-461e-44c8-8d39-3a958c601c06",
   "metadata": {},
   "outputs": [],
   "source": []
  }
 ],
 "metadata": {
  "kernelspec": {
   "display_name": "myenv",
   "language": "python",
   "name": "myenv"
  },
  "language_info": {
   "codemirror_mode": {
    "name": "ipython",
    "version": 3
   },
   "file_extension": ".py",
   "mimetype": "text/x-python",
   "name": "python",
   "nbconvert_exporter": "python",
   "pygments_lexer": "ipython3",
   "version": "3.11.5"
  }
 },
 "nbformat": 4,
 "nbformat_minor": 5
}
