{
 "cells": [
  {
   "cell_type": "code",
   "execution_count": 1,
   "id": "fe3942c5-e76a-4634-b9a4-98dcbdbc31cb",
   "metadata": {},
   "outputs": [],
   "source": [
    "import os as os\n",
    "import ctypes\n",
    "import pickle\n",
    "import multiprocessing as mp\n",
    "\n",
    "import tqdm\n",
    "import numpy as np\n",
    "from scipy.io import loadmat\n",
    "from scipy.signal import detrend\n",
    "import nibabel as nib\n",
    "\n",
    "import popeye.utilities as utils\n",
    "from popeye import css\n",
    "from popeye.visual_stimulus import VisualStimulus, resample_stimulus"
   ]
  },
  {
   "cell_type": "code",
   "execution_count": 4,
   "id": "7a1cde3e-a0e8-4e9e-96e7-f4e57731fe1c",
   "metadata": {},
   "outputs": [],
   "source": [
    "native_width = 36.3 # assuming this from prisma measurements i made at NYU\n",
    "viewing_distance = 64.53 # assuming this from prisma measurements i made at NYU\n",
    "tr_length = 1.3 # 1300 ms per file name\n",
    "dtype = ctypes.c_int16 # for stimulus\n",
    "scale_factor = 1 # for speed\n",
    "resample_factor = 0.85 # for speed"
   ]
  },
  {
   "cell_type": "code",
   "execution_count": 5,
   "id": "1a50dfc8-789c-4539-b459-1965903bd996",
   "metadata": {},
   "outputs": [],
   "source": [
    "bar = loadmat('Stimuli/bar_stimulus_masks_1300ms_images.mat')['images']\n",
    "params = loadmat('Stimuli/bar_stimulus_masks_1300ms_params.mat')"
   ]
  },
  {
   "cell_type": "code",
   "execution_count": 6,
   "id": "159eb7e3-b981-44ba-bcf9-0c479eff72e0",
   "metadata": {},
   "outputs": [],
   "source": [
    "bar = resample_stimulus(bar, resample_factor)\n",
    "stimulus = VisualStimulus(bar, viewing_distance, native_width, scale_factor, tr_length, dtype)"
   ]
  },
  {
   "cell_type": "code",
   "execution_count": null,
   "id": "a9cb6f41-8752-4d9e-9384-2fbea31d77e1",
   "metadata": {},
   "outputs": [],
   "source": []
  }
 ],
 "metadata": {
  "kernelspec": {
   "display_name": "myenv",
   "language": "python",
   "name": "myenv"
  },
  "language_info": {
   "codemirror_mode": {
    "name": "ipython",
    "version": 3
   },
   "file_extension": ".py",
   "mimetype": "text/x-python",
   "name": "python",
   "nbconvert_exporter": "python",
   "pygments_lexer": "ipython3",
   "version": "3.11.5"
  }
 },
 "nbformat": 4,
 "nbformat_minor": 5
}
