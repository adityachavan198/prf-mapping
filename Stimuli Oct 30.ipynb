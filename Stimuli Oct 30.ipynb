{
 "cells": [
  {
   "cell_type": "code",
   "execution_count": 2,
   "id": "ca6021ca-48ac-4d5a-9650-f8d55fd186cd",
   "metadata": {},
   "outputs": [],
   "source": [
    "from scipy.io import loadmat\n",
    "import numpy as np\n",
    "import ctypes"
   ]
  },
  {
   "cell_type": "code",
   "execution_count": 3,
   "id": "882ec72b-670d-434a-a98a-3837a8c3d374",
   "metadata": {},
   "outputs": [],
   "source": [
    "import popeye.utilities as utils\n",
    "from popeye import css\n",
    "from popeye.visual_stimulus import VisualStimulus, resample_stimulus"
   ]
  },
  {
   "cell_type": "code",
   "execution_count": 4,
   "id": "33debb75-c218-4bd2-a13a-fc9eba75e2b0",
   "metadata": {},
   "outputs": [],
   "source": [
    "bar = loadmat('/Users/aditya/Library/Mobile Documents/com~apple~CloudDocs/Work/Clayspace/sample_data/HT/RF1/HT_RF1_vista/Stimuli/bar_stimulus_masks_1300ms_images.mat')['images']\n",
    "params = loadmat('Stimuli/bar_stimulus_masks_1300ms_params.mat')"
   ]
  },
  {
   "cell_type": "code",
   "execution_count": 5,
   "id": "6bed2a88-fcd5-48a5-a923-9d7d2c902eea",
   "metadata": {},
   "outputs": [
    {
     "data": {
      "text/plain": [
       "array([[[0, 0, 1, ..., 0, 1, 1],\n",
       "        [0, 0, 1, ..., 0, 1, 1],\n",
       "        [0, 0, 1, ..., 0, 1, 1],\n",
       "        ...,\n",
       "        [0, 0, 0, ..., 0, 1, 1],\n",
       "        [0, 0, 0, ..., 0, 1, 1],\n",
       "        [0, 0, 0, ..., 0, 1, 1]],\n",
       "\n",
       "       [[0, 0, 1, ..., 0, 1, 1],\n",
       "        [0, 0, 1, ..., 0, 1, 1],\n",
       "        [0, 0, 1, ..., 0, 1, 1],\n",
       "        ...,\n",
       "        [0, 0, 0, ..., 0, 1, 1],\n",
       "        [0, 0, 0, ..., 0, 1, 1],\n",
       "        [0, 0, 0, ..., 0, 1, 1]],\n",
       "\n",
       "       [[0, 0, 1, ..., 0, 1, 1],\n",
       "        [0, 0, 1, ..., 0, 1, 1],\n",
       "        [0, 0, 1, ..., 0, 1, 1],\n",
       "        ...,\n",
       "        [0, 0, 0, ..., 0, 1, 1],\n",
       "        [0, 0, 0, ..., 0, 1, 1],\n",
       "        [0, 0, 0, ..., 0, 1, 1]],\n",
       "\n",
       "       ...,\n",
       "\n",
       "       [[0, 0, 1, ..., 0, 0, 0],\n",
       "        [0, 0, 1, ..., 0, 0, 0],\n",
       "        [0, 0, 1, ..., 0, 0, 0],\n",
       "        ...,\n",
       "        [0, 0, 0, ..., 0, 0, 0],\n",
       "        [0, 0, 0, ..., 0, 0, 0],\n",
       "        [0, 0, 0, ..., 0, 0, 0]],\n",
       "\n",
       "       [[0, 0, 1, ..., 0, 0, 0],\n",
       "        [0, 0, 1, ..., 0, 0, 0],\n",
       "        [0, 0, 1, ..., 0, 0, 0],\n",
       "        ...,\n",
       "        [0, 0, 0, ..., 0, 0, 0],\n",
       "        [0, 0, 0, ..., 0, 0, 0],\n",
       "        [0, 0, 0, ..., 0, 0, 0]],\n",
       "\n",
       "       [[0, 0, 1, ..., 0, 0, 0],\n",
       "        [0, 0, 1, ..., 0, 0, 0],\n",
       "        [0, 0, 1, ..., 0, 0, 0],\n",
       "        ...,\n",
       "        [0, 0, 0, ..., 0, 0, 0],\n",
       "        [0, 0, 0, ..., 0, 0, 0],\n",
       "        [0, 0, 0, ..., 0, 0, 0]]], dtype=uint8)"
      ]
     },
     "execution_count": 5,
     "metadata": {},
     "output_type": "execute_result"
    }
   ],
   "source": [
    "bar"
   ]
  },
  {
   "cell_type": "code",
   "execution_count": 6,
   "id": "5f1e2d6f-0d3c-41b3-9828-a09847e8bd41",
   "metadata": {},
   "outputs": [
    {
     "data": {
      "text/plain": [
       "(120, 120, 201)"
      ]
     },
     "execution_count": 6,
     "metadata": {},
     "output_type": "execute_result"
    }
   ],
   "source": [
    "bar.shape"
   ]
  },
  {
   "cell_type": "code",
   "execution_count": 109,
   "id": "87ec116f-01e8-489e-926e-14eddf793547",
   "metadata": {},
   "outputs": [
    {
     "data": {
      "text/plain": [
       "{'__header__': b'MATLAB 5.0 MAT-file, Platform: MACI64, Created on: Wed Dec 23 15:16:37 2020',\n",
       " '__version__': '1.0',\n",
       " '__globals__': [],\n",
       " 'stimulus': array([[(array([[  1,   2,   3,   4,   5,   6,   7,   8,   9,  10,  11,  12,  13,\n",
       "                  14,  15,  16,  17,  18,  19,  20,  21,  22,  23,  24,  25,  26,\n",
       "                  27,  28,  29,  30,  31,  32,  33,  34,  35,  36,  37,  38,  39,\n",
       "                  40,  41,  42,  43,  44,  45,  46,  47,  48,  49,  50,  51,  52,\n",
       "                  53,  54,  55,  56,  57,  58,  59,  60,  61,  62,  63,  64,  65,\n",
       "                  66,  67,  68,  69,  70,  71,  72,  73,  74,  75,  76,  77,  78,\n",
       "                  79,  80,  81,  82,  83,  84,  85,  86,  87,  88,  89,  90,  91,\n",
       "                  92,  93,  94,  95,  96,  97,  98,  99, 100, 101, 102, 103, 104,\n",
       "                 105, 106, 107, 108, 109, 110, 111, 112, 113, 114, 115, 116, 117,\n",
       "                 118, 119, 120, 121, 122, 123, 124, 125, 126, 127, 128, 129, 130,\n",
       "                 131, 132, 133, 134, 135, 136, 137, 138, 139, 140, 141, 142, 143,\n",
       "                 144, 145, 146, 147, 148, 149, 150, 151, 152, 153, 154, 155, 156,\n",
       "                 157, 158, 159, 160, 161, 162, 163, 164, 165, 166, 167, 168, 169,\n",
       "                 170, 171, 172, 173, 174, 175, 176, 177, 178, 179, 180, 181, 182,\n",
       "                 183, 184, 185, 186, 187, 188, 189, 190, 191, 192, 193, 194, 195,\n",
       "                 196, 197, 198, 199, 200, 201]], dtype=uint8), array([[  0. ,   1.3,   2.6,   3.9,   5.2,   6.5,   7.8,   9.1,  10.4,\n",
       "                  11.7,  13. ,  14.3,  15.6,  16.9,  18.2,  19.5,  20.8,  22.1,\n",
       "                  23.4,  24.7,  26. ,  27.3,  28.6,  29.9,  31.2,  32.5,  33.8,\n",
       "                  35.1,  36.4,  37.7,  39. ,  40.3,  41.6,  42.9,  44.2,  45.5,\n",
       "                  46.8,  48.1,  49.4,  50.7,  52. ,  53.3,  54.6,  55.9,  57.2,\n",
       "                  58.5,  59.8,  61.1,  62.4,  63.7,  65. ,  66.3,  67.6,  68.9,\n",
       "                  70.2,  71.5,  72.8,  74.1,  75.4,  76.7,  78. ,  79.3,  80.6,\n",
       "                  81.9,  83.2,  84.5,  85.8,  87.1,  88.4,  89.7,  91. ,  92.3,\n",
       "                  93.6,  94.9,  96.2,  97.5,  98.8, 100.1, 101.4, 102.7, 104. ,\n",
       "                 105.3, 106.6, 107.9, 109.2, 110.5, 111.8, 113.1, 114.4, 115.7,\n",
       "                 117. , 118.3, 119.6, 120.9, 122.2, 123.5, 124.8, 126.1, 127.4,\n",
       "                 128.7, 130. , 131.3, 132.6, 133.9, 135.2, 136.5, 137.8, 139.1,\n",
       "                 140.4, 141.7, 143. , 144.3, 145.6, 146.9, 148.2, 149.5, 150.8,\n",
       "                 152.1, 153.4, 154.7, 156. , 157.3, 158.6, 159.9, 161.2, 162.5,\n",
       "                 163.8, 165.1, 166.4, 167.7, 169. , 170.3, 171.6, 172.9, 174.2,\n",
       "                 175.5, 176.8, 178.1, 179.4, 180.7, 182. , 183.3, 184.6, 185.9,\n",
       "                 187.2, 188.5, 189.8, 191.1, 192.4, 193.7, 195. , 196.3, 197.6,\n",
       "                 198.9, 200.2, 201.5, 202.8, 204.1, 205.4, 206.7, 208. , 209.3,\n",
       "                 210.6, 211.9, 213.2, 214.5, 215.8, 217.1, 218.4, 219.7, 221. ,\n",
       "                 222.3, 223.6, 224.9, 226.2, 227.5, 228.8, 230.1, 231.4, 232.7,\n",
       "                 234. , 235.3, 236.6, 237.9, 239.2, 240.5, 241.8, 243.1, 244.4,\n",
       "                 245.7, 247. , 248.3, 249.6, 250.9, 252.2, 253.5, 254.8, 256.1,\n",
       "                 257.4, 258.7, 260. ]]))                                                                                             ]],\n",
       "       dtype=[('seq', 'O'), ('seqtiming', 'O')])}"
      ]
     },
     "execution_count": 109,
     "metadata": {},
     "output_type": "execute_result"
    }
   ],
   "source": [
    "params"
   ]
  },
  {
   "cell_type": "code",
   "execution_count": 110,
   "id": "5e9d8108-4150-4f47-8d27-c390627562be",
   "metadata": {},
   "outputs": [
    {
     "data": {
      "text/plain": [
       "(array([[  1,   2,   3,   4,   5,   6,   7,   8,   9,  10,  11,  12,  13,\n",
       "         14,  15,  16,  17,  18,  19,  20,  21,  22,  23,  24,  25,  26,\n",
       "         27,  28,  29,  30,  31,  32,  33,  34,  35,  36,  37,  38,  39,\n",
       "         40,  41,  42,  43,  44,  45,  46,  47,  48,  49,  50,  51,  52,\n",
       "         53,  54,  55,  56,  57,  58,  59,  60,  61,  62,  63,  64,  65,\n",
       "         66,  67,  68,  69,  70,  71,  72,  73,  74,  75,  76,  77,  78,\n",
       "         79,  80,  81,  82,  83,  84,  85,  86,  87,  88,  89,  90,  91,\n",
       "         92,  93,  94,  95,  96,  97,  98,  99, 100, 101, 102, 103, 104,\n",
       "        105, 106, 107, 108, 109, 110, 111, 112, 113, 114, 115, 116, 117,\n",
       "        118, 119, 120, 121, 122, 123, 124, 125, 126, 127, 128, 129, 130,\n",
       "        131, 132, 133, 134, 135, 136, 137, 138, 139, 140, 141, 142, 143,\n",
       "        144, 145, 146, 147, 148, 149, 150, 151, 152, 153, 154, 155, 156,\n",
       "        157, 158, 159, 160, 161, 162, 163, 164, 165, 166, 167, 168, 169,\n",
       "        170, 171, 172, 173, 174, 175, 176, 177, 178, 179, 180, 181, 182,\n",
       "        183, 184, 185, 186, 187, 188, 189, 190, 191, 192, 193, 194, 195,\n",
       "        196, 197, 198, 199, 200, 201]], dtype=uint8), array([[  0. ,   1.3,   2.6,   3.9,   5.2,   6.5,   7.8,   9.1,  10.4,\n",
       "         11.7,  13. ,  14.3,  15.6,  16.9,  18.2,  19.5,  20.8,  22.1,\n",
       "         23.4,  24.7,  26. ,  27.3,  28.6,  29.9,  31.2,  32.5,  33.8,\n",
       "         35.1,  36.4,  37.7,  39. ,  40.3,  41.6,  42.9,  44.2,  45.5,\n",
       "         46.8,  48.1,  49.4,  50.7,  52. ,  53.3,  54.6,  55.9,  57.2,\n",
       "         58.5,  59.8,  61.1,  62.4,  63.7,  65. ,  66.3,  67.6,  68.9,\n",
       "         70.2,  71.5,  72.8,  74.1,  75.4,  76.7,  78. ,  79.3,  80.6,\n",
       "         81.9,  83.2,  84.5,  85.8,  87.1,  88.4,  89.7,  91. ,  92.3,\n",
       "         93.6,  94.9,  96.2,  97.5,  98.8, 100.1, 101.4, 102.7, 104. ,\n",
       "        105.3, 106.6, 107.9, 109.2, 110.5, 111.8, 113.1, 114.4, 115.7,\n",
       "        117. , 118.3, 119.6, 120.9, 122.2, 123.5, 124.8, 126.1, 127.4,\n",
       "        128.7, 130. , 131.3, 132.6, 133.9, 135.2, 136.5, 137.8, 139.1,\n",
       "        140.4, 141.7, 143. , 144.3, 145.6, 146.9, 148.2, 149.5, 150.8,\n",
       "        152.1, 153.4, 154.7, 156. , 157.3, 158.6, 159.9, 161.2, 162.5,\n",
       "        163.8, 165.1, 166.4, 167.7, 169. , 170.3, 171.6, 172.9, 174.2,\n",
       "        175.5, 176.8, 178.1, 179.4, 180.7, 182. , 183.3, 184.6, 185.9,\n",
       "        187.2, 188.5, 189.8, 191.1, 192.4, 193.7, 195. , 196.3, 197.6,\n",
       "        198.9, 200.2, 201.5, 202.8, 204.1, 205.4, 206.7, 208. , 209.3,\n",
       "        210.6, 211.9, 213.2, 214.5, 215.8, 217.1, 218.4, 219.7, 221. ,\n",
       "        222.3, 223.6, 224.9, 226.2, 227.5, 228.8, 230.1, 231.4, 232.7,\n",
       "        234. , 235.3, 236.6, 237.9, 239.2, 240.5, 241.8, 243.1, 244.4,\n",
       "        245.7, 247. , 248.3, 249.6, 250.9, 252.2, 253.5, 254.8, 256.1,\n",
       "        257.4, 258.7, 260. ]]))"
      ]
     },
     "execution_count": 110,
     "metadata": {},
     "output_type": "execute_result"
    }
   ],
   "source": [
    "params['stimulus'][0][0]"
   ]
  },
  {
   "cell_type": "code",
   "execution_count": 111,
   "id": "d57f27b6-6ef9-46fd-a039-6b96f302d065",
   "metadata": {},
   "outputs": [
    {
     "data": {
      "text/plain": [
       "(1,)"
      ]
     },
     "execution_count": 111,
     "metadata": {},
     "output_type": "execute_result"
    }
   ],
   "source": [
    "params['stimulus'][0].shape"
   ]
  },
  {
   "cell_type": "code",
   "execution_count": 112,
   "id": "c29e2fb2-bbbf-47f1-a0e4-0cbbc52b0146",
   "metadata": {},
   "outputs": [
    {
     "data": {
      "text/plain": [
       "numpy.ndarray"
      ]
     },
     "execution_count": 112,
     "metadata": {},
     "output_type": "execute_result"
    }
   ],
   "source": [
    "type(params['stimulus'][0])"
   ]
  },
  {
   "cell_type": "code",
   "execution_count": 113,
   "id": "ca5c36c0-729c-4e0b-8174-54ac2b14eb79",
   "metadata": {},
   "outputs": [
    {
     "data": {
      "text/plain": [
       "numpy.ndarray"
      ]
     },
     "execution_count": 113,
     "metadata": {},
     "output_type": "execute_result"
    }
   ],
   "source": [
    "type(params['stimulus'])"
   ]
  },
  {
   "cell_type": "code",
   "execution_count": 114,
   "id": "6aa30699-86c1-43bc-9289-b7ab8de3a021",
   "metadata": {},
   "outputs": [
    {
     "data": {
      "text/plain": [
       "numpy.ndarray"
      ]
     },
     "execution_count": 114,
     "metadata": {},
     "output_type": "execute_result"
    }
   ],
   "source": [
    "type(params['stimulus'][0][0][0])"
   ]
  },
  {
   "cell_type": "code",
   "execution_count": 115,
   "id": "81c2cc91-9cb3-4f52-a58d-8f2fb240c3dc",
   "metadata": {},
   "outputs": [
    {
     "data": {
      "text/plain": [
       "(1, 201)"
      ]
     },
     "execution_count": 115,
     "metadata": {},
     "output_type": "execute_result"
    }
   ],
   "source": [
    "params['stimulus'][0][0][0].shape"
   ]
  },
  {
   "cell_type": "code",
   "execution_count": 127,
   "id": "3ff1ff7c-0108-4acc-b3be-9d4be51e9fe6",
   "metadata": {},
   "outputs": [],
   "source": [
    "# some params\n",
    "native_width = 36.3 # assuming this from prisma measurements i made at NYU\n",
    "viewing_distance = 64.53 # assuming this from prisma measurements i made at NYU\n",
    "tr_length = 1.3 # 1300 ms per file name\n",
    "dtype = ctypes.c_int16 # for stimulus\n",
    "scale_factor = 1 # for speed\n",
    "resample_factor = 0.85 # for speed"
   ]
  },
  {
   "cell_type": "code",
   "execution_count": 128,
   "id": "ef4b5b96-7cae-4d4f-b7f7-4288cd0a6884",
   "metadata": {},
   "outputs": [],
   "source": [
    "bar = loadmat('Stimuli/bar_stimulus_masks_1300ms_images.mat')['images']\n",
    "params = loadmat('Stimuli/bar_stimulus_masks_1300ms_params.mat')"
   ]
  },
  {
   "cell_type": "code",
   "execution_count": 129,
   "id": "5ea0b001-77d5-433d-b8f3-9ee122c95ede",
   "metadata": {},
   "outputs": [],
   "source": [
    "bar = resample_stimulus(bar, resample_factor)\n",
    "stimulus = VisualStimulus(bar, viewing_distance, native_width, scale_factor, tr_length, dtype)"
   ]
  },
  {
   "cell_type": "code",
   "execution_count": 130,
   "id": "fc35c8ed-6cb0-4067-8b05-1cc742c854c4",
   "metadata": {},
   "outputs": [
    {
     "data": {
      "text/plain": [
       "(102, 102, 201)"
      ]
     },
     "execution_count": 130,
     "metadata": {},
     "output_type": "execute_result"
    }
   ],
   "source": [
    "bar.shape"
   ]
  },
  {
   "cell_type": "code",
   "execution_count": 26,
   "id": "38179264-3d9a-42ce-9f70-e219c8d703e9",
   "metadata": {},
   "outputs": [
    {
     "data": {
      "text/plain": [
       "anonymousmemmap([[[0, 0, 1, ..., 0, 1, 1],\n",
       "                  [0, 0, 1, ..., 0, 1, 1],\n",
       "                  [0, 0, 1, ..., 0, 1, 1],\n",
       "                  ...,\n",
       "                  [0, 0, 0, ..., 0, 1, 1],\n",
       "                  [0, 0, 0, ..., 0, 1, 1],\n",
       "                  [0, 0, 0, ..., 0, 1, 1]],\n",
       "\n",
       "                 [[0, 0, 1, ..., 0, 1, 1],\n",
       "                  [0, 0, 1, ..., 0, 1, 1],\n",
       "                  [0, 0, 1, ..., 0, 1, 1],\n",
       "                  ...,\n",
       "                  [0, 0, 0, ..., 0, 1, 1],\n",
       "                  [0, 0, 0, ..., 0, 1, 1],\n",
       "                  [0, 0, 0, ..., 0, 1, 1]],\n",
       "\n",
       "                 [[0, 0, 1, ..., 0, 1, 1],\n",
       "                  [0, 0, 1, ..., 0, 1, 1],\n",
       "                  [0, 0, 1, ..., 0, 1, 1],\n",
       "                  ...,\n",
       "                  [0, 0, 0, ..., 0, 1, 1],\n",
       "                  [0, 0, 0, ..., 0, 1, 1],\n",
       "                  [0, 0, 0, ..., 0, 1, 1]],\n",
       "\n",
       "                 ...,\n",
       "\n",
       "                 [[0, 0, 1, ..., 0, 0, 0],\n",
       "                  [0, 0, 1, ..., 0, 0, 0],\n",
       "                  [0, 0, 1, ..., 0, 0, 0],\n",
       "                  ...,\n",
       "                  [0, 0, 0, ..., 0, 0, 0],\n",
       "                  [0, 0, 0, ..., 0, 0, 0],\n",
       "                  [0, 0, 0, ..., 0, 0, 0]],\n",
       "\n",
       "                 [[0, 0, 1, ..., 0, 0, 0],\n",
       "                  [0, 0, 1, ..., 0, 0, 0],\n",
       "                  [0, 0, 1, ..., 0, 0, 0],\n",
       "                  ...,\n",
       "                  [0, 0, 0, ..., 0, 0, 0],\n",
       "                  [0, 0, 0, ..., 0, 0, 0],\n",
       "                  [0, 0, 0, ..., 0, 0, 0]],\n",
       "\n",
       "                 [[0, 0, 1, ..., 0, 0, 0],\n",
       "                  [0, 0, 1, ..., 0, 0, 0],\n",
       "                  [0, 0, 1, ..., 0, 0, 0],\n",
       "                  ...,\n",
       "                  [0, 0, 0, ..., 0, 0, 0],\n",
       "                  [0, 0, 0, ..., 0, 0, 0],\n",
       "                  [0, 0, 0, ..., 0, 0, 0]]], dtype=int16)"
      ]
     },
     "execution_count": 26,
     "metadata": {},
     "output_type": "execute_result"
    }
   ],
   "source": [
    "stimulus.stim_arr"
   ]
  },
  {
   "cell_type": "code",
   "execution_count": 27,
   "id": "01c6e5d8-3dbb-4d18-8cca-92bf163ef44c",
   "metadata": {},
   "outputs": [
    {
     "data": {
      "text/plain": [
       "sharedmem.sharedmem.anonymousmemmap"
      ]
     },
     "execution_count": 27,
     "metadata": {},
     "output_type": "execute_result"
    }
   ],
   "source": [
    "type(stimulus.stim_arr)"
   ]
  },
  {
   "cell_type": "code",
   "execution_count": null,
   "id": "e7ce723c-0ba8-487e-8584-84ba019e5023",
   "metadata": {},
   "outputs": [],
   "source": [
    "stimulus"
   ]
  }
 ],
 "metadata": {
  "kernelspec": {
   "display_name": "myenv",
   "language": "python",
   "name": "myenv"
  },
  "language_info": {
   "codemirror_mode": {
    "name": "ipython",
    "version": 3
   },
   "file_extension": ".py",
   "mimetype": "text/x-python",
   "name": "python",
   "nbconvert_exporter": "python",
   "pygments_lexer": "ipython3",
   "version": "3.11.5"
  }
 },
 "nbformat": 4,
 "nbformat_minor": 5
}
