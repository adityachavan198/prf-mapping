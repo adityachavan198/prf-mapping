{
 "cells": [
  {
   "cell_type": "code",
   "execution_count": 1,
   "id": "f9c2a710-5f97-47cd-99b0-b7b4c2a4ff13",
   "metadata": {},
   "outputs": [],
   "source": [
    "import pandas"
   ]
  },
  {
   "cell_type": "code",
   "execution_count": 2,
   "id": "f8c6770a-c96c-4c24-be7d-93f4104b66b3",
   "metadata": {},
   "outputs": [],
   "source": [
    "import numpy"
   ]
  },
  {
   "cell_type": "code",
   "execution_count": 4,
   "id": "fb9bb546-11a0-43e9-ac50-cf2dfe3c0654",
   "metadata": {},
   "outputs": [
    {
     "name": "stdout",
     "output_type": "stream",
     "text": [
      "[subLoadImages]: Loading images: Stimuli/bar_stimulus_masks_1300ms_images.mat...\n",
      "[subLoadImages]: Loading images for scan 1...\n"
     ]
    },
    {
     "ename": "ValueError",
     "evalue": "Need the image matrix saved from scan",
     "output_type": "error",
     "traceback": [
      "\u001b[0;31m---------------------------------------------------------------------------\u001b[0m",
      "\u001b[0;31mValueError\u001b[0m                                Traceback (most recent call last)",
      "Cell \u001b[0;32mIn[4], line 147\u001b[0m\n\u001b[1;32m    135\u001b[0m params \u001b[38;5;241m=\u001b[39m {\n\u001b[1;32m    136\u001b[0m     \u001b[38;5;124m'\u001b[39m\u001b[38;5;124mstim\u001b[39m\u001b[38;5;124m'\u001b[39m: {\n\u001b[1;32m    137\u001b[0m         \u001b[38;5;241m1\u001b[39m: {\u001b[38;5;124m'\u001b[39m\u001b[38;5;124mimFile\u001b[39m\u001b[38;5;124m'\u001b[39m: \u001b[38;5;124m'\u001b[39m\u001b[38;5;124mStimuli/bar_stimulus_masks_1300ms_images.mat\u001b[39m\u001b[38;5;124m'\u001b[39m, \u001b[38;5;124m'\u001b[39m\u001b[38;5;124mparamsFile\u001b[39m\u001b[38;5;124m'\u001b[39m: \u001b[38;5;124m'\u001b[39m\u001b[38;5;124mStimuli/bar_stimulus_masks_1300ms_params.mat\u001b[39m\u001b[38;5;124m'\u001b[39m, \u001b[38;5;124m'\u001b[39m\u001b[38;5;124mframePeriod\u001b[39m\u001b[38;5;124m'\u001b[39m: \u001b[38;5;241m2\u001b[39m, \u001b[38;5;124m'\u001b[39m\u001b[38;5;124mnFrames\u001b[39m\u001b[38;5;124m'\u001b[39m: \u001b[38;5;241m100\u001b[39m, \u001b[38;5;124m'\u001b[39m\u001b[38;5;124mprescanDuration\u001b[39m\u001b[38;5;124m'\u001b[39m: \u001b[38;5;241m10\u001b[39m}\n\u001b[0;32m   (...)\u001b[0m\n\u001b[1;32m    143\u001b[0m     }\n\u001b[1;32m    144\u001b[0m }\n\u001b[1;32m    146\u001b[0m \u001b[38;5;28mid\u001b[39m \u001b[38;5;241m=\u001b[39m \u001b[38;5;241m1\u001b[39m\n\u001b[0;32m--> 147\u001b[0m P, I \u001b[38;5;241m=\u001b[39m \u001b[43msubLoadImages\u001b[49m\u001b[43m(\u001b[49m\u001b[43mparams\u001b[49m\u001b[43m,\u001b[49m\u001b[43m \u001b[49m\u001b[38;5;28;43mid\u001b[39;49m\u001b[43m)\u001b[49m\n\u001b[1;32m    148\u001b[0m I \u001b[38;5;241m=\u001b[39m subFilterImages(I, P, params, \u001b[38;5;28mid\u001b[39m)\n\u001b[1;32m    149\u001b[0m x, y, params \u001b[38;5;241m=\u001b[39m subSamplingGrid(params)\n",
      "Cell \u001b[0;32mIn[4], line 25\u001b[0m, in \u001b[0;36msubLoadImages\u001b[0;34m(params, id)\u001b[0m\n\u001b[1;32m     23\u001b[0m imFile \u001b[38;5;241m=\u001b[39m params[\u001b[38;5;124m'\u001b[39m\u001b[38;5;124mstim\u001b[39m\u001b[38;5;124m'\u001b[39m][\u001b[38;5;28mid\u001b[39m][\u001b[38;5;124m'\u001b[39m\u001b[38;5;124mimFile\u001b[39m\u001b[38;5;124m'\u001b[39m]\n\u001b[1;32m     24\u001b[0m \u001b[38;5;28;01mif\u001b[39;00m \u001b[38;5;129;01mnot\u001b[39;00m checkfields(params, \u001b[38;5;124m'\u001b[39m\u001b[38;5;124mstim\u001b[39m\u001b[38;5;124m'\u001b[39m, \u001b[38;5;124m'\u001b[39m\u001b[38;5;124mimFile\u001b[39m\u001b[38;5;124m'\u001b[39m):\n\u001b[0;32m---> 25\u001b[0m     \u001b[38;5;28;01mraise\u001b[39;00m \u001b[38;5;167;01mValueError\u001b[39;00m(\u001b[38;5;124m\"\u001b[39m\u001b[38;5;124mNeed the image matrix saved from scan\u001b[39m\u001b[38;5;124m\"\u001b[39m)\n\u001b[1;32m     27\u001b[0m \u001b[38;5;28;01mif\u001b[39;00m \u001b[38;5;129;01mnot\u001b[39;00m imFile\u001b[38;5;241m.\u001b[39mendswith(\u001b[38;5;124m'\u001b[39m\u001b[38;5;124m.mat\u001b[39m\u001b[38;5;124m'\u001b[39m):\n\u001b[1;32m     28\u001b[0m     imFile \u001b[38;5;241m=\u001b[39m \u001b[38;5;124mf\u001b[39m\u001b[38;5;124m\"\u001b[39m\u001b[38;5;124mStimuli/\u001b[39m\u001b[38;5;132;01m{\u001b[39;00mimFile\u001b[38;5;132;01m}\u001b[39;00m\u001b[38;5;124m\"\u001b[39m\n",
      "\u001b[0;31mValueError\u001b[0m: Need the image matrix saved from scan"
     ]
    }
   ],
   "source": [
    "import numpy as np\n",
    "\n",
    "def notDefined(variable):\n",
    "    return variable is None\n",
    "\n",
    "def checkfields(params, *fields):\n",
    "    for field in fields:\n",
    "        if field not in params:\n",
    "            return False\n",
    "    return True\n",
    "\n",
    "def shift(seq, n):\n",
    "    return seq[n:] + seq[:n]\n",
    "\n",
    "def rmfilter_binary(images, display):\n",
    "    # Implementation of binary filter (replace with actual filter logic)\n",
    "    pass\n",
    "\n",
    "def subLoadImages(params, id):\n",
    "    print(f\"[subLoadImages]: Loading images: {params['stim'][id]['imFile']}...\")\n",
    "    print(f\"[subLoadImages]: Loading images for scan {id}...\")\n",
    "    \n",
    "    imFile = params['stim'][id]['imFile']\n",
    "    if not checkfields(params, 'stim', 'imFile'):\n",
    "        raise ValueError(\"Need the image matrix saved from scan\")\n",
    "    \n",
    "    if not imFile.endswith('.mat'):\n",
    "        imFile = f\"Stimuli/{imFile}\"\n",
    "    \n",
    "    I = np.load(imFile)\n",
    "    # TODO: make compatible with RGB images (now assumes grayscale)\n",
    "    \n",
    "    paramsFile = params['stim'][id]['paramsFile']\n",
    "    if not checkfields(params, 'stim', 'paramsFile'):\n",
    "        raise ValueError(\"Need the experiment params file from scan\")\n",
    "    \n",
    "    if not paramsFile.endswith('.mat'):\n",
    "        paramsFile = f\"Stimuli/{paramsFile}\"\n",
    "    \n",
    "    P = np.load(paramsFile)\n",
    "    return P, I\n",
    "\n",
    "def subFilterImages(I, P, params, id):\n",
    "    print(\"[subFilterImages]: Filtering images...\")\n",
    "    if not checkfields(params, 'stim', 'imFilter'):\n",
    "        params['stim'][id]['imFilter'] = 'binary'\n",
    "    \n",
    "    # try to determine colormap parameters\n",
    "    try:\n",
    "        display = P['params']['display']\n",
    "    except KeyError:\n",
    "        display = None\n",
    "        print(\"[subFilterImages]: No calibration file found. This may affect image filtering.\")\n",
    "    \n",
    "    # Apply filter (replace with actual filter function)\n",
    "    I['images'] = rmfilter_binary(I['images'], display)\n",
    "    return I\n",
    "\n",
    "def subSamplingGrid(params):\n",
    "    print(\"[subSamplingGrid]: Creating sampling grid...\")\n",
    "    nSamples = params['analysis']['numberStimulusGridPoints']\n",
    "    fieldSize = params['analysis']['fieldSize']\n",
    "    sampleRate = params['analysis']['sampleRate']\n",
    "    \n",
    "    mygrid = np.arange(-fieldSize, fieldSize + sampleRate, sampleRate)\n",
    "    x, y = np.meshgrid(mygrid, mygrid)\n",
    "    \n",
    "    params['analysis']['X'] = x.flatten()\n",
    "    params['analysis']['Y'] = y.flatten()\n",
    "    \n",
    "    if len(params['analysis']['X']) != (1 + nSamples * 2) ** 2:\n",
    "        raise ValueError(\"[subSamplingGrid]: error in grid creation\")\n",
    "    \n",
    "    return x, y, params\n",
    "\n",
    "def subSpatialDownsample(I, params):\n",
    "    print(\"[subSpatialDownsample]: Downsampling images to stimulus grid...\")\n",
    "    nImages = I['images'].shape[2]\n",
    "    nSamples = params['analysis']['numberStimulusGridPoints']\n",
    "    resampled = np.zeros((len(params['analysis']['X']), nImages))\n",
    "    \n",
    "    for ii in range(nImages):\n",
    "        tmp = np.array(Image.fromarray(I['images'][:, :, ii]).resize((1 + 2 * nSamples, 1 + 2 * nSamples), Image.NEAREST))\n",
    "        resampled[:, ii] = tmp.flatten()\n",
    "    \n",
    "    I['images'] = resampled\n",
    "    return I\n",
    "\n",
    "def subTemporalDownsample(I, P, params, id):\n",
    "    print(\"[subTemporalDownsample]: Averaging images within a TR...\")\n",
    "    framePeriod = params['stim'][id]['framePeriod']\n",
    "    nFrames = params['stim'][id]['nFrames']\n",
    "    \n",
    "    if 'prescanDuration' in P['params']:\n",
    "        params['stim'][id]['prescanDuration'] = P['params']['prescanDuration'] / framePeriod\n",
    "    \n",
    "    prescanDuration = params['stim'][id]['prescanDuration']\n",
    "    nFrames += prescanDuration\n",
    "    seq = P['stimulus']['seq']\n",
    "    seqTiming = P['stimulus']['seqtiming']\n",
    "    images = np.zeros((len(params['analysis']['X']), nFrames))\n",
    "    \n",
    "    imOnset = seqTiming\n",
    "    imOffset = shift(seqTiming, -1)\n",
    "    imOffset[-1] = framePeriod * nFrames\n",
    "    \n",
    "    for f in range(nFrames):\n",
    "        frameOnset = framePeriod * f\n",
    "        frameOffset = framePeriod * (f + 1)\n",
    "        imDur = np.minimum(imOffset, frameOffset) - np.maximum(imOnset, frameOnset)\n",
    "        imDur[imDur < 0.001] = 0\n",
    "        \n",
    "        img = np.zeros_like(I['images'][:, 0])\n",
    "        ii = np.where(imDur > 0)[0]\n",
    "        for im in ii:\n",
    "            img += imDur[im] * I['images'][:, seq[im]]\n",
    "        img /= framePeriod\n",
    "        \n",
    "        if 'fliprotate' in params['stim'][id]:\n",
    "            if params['stim'][id]['fliprotate'][0]:\n",
    "                img = np.fliplr(img)\n",
    "            try:\n",
    "                if params['stim'][id]['fliprotate'][1]:\n",
    "                    img = np.flipud(img)\n",
    "                if params['stim'][id]['fliprotate'][2] != 0:\n",
    "                    img = np.rot90(img, params['stim'][id]['fliprotate'][2])\n",
    "            except IndexError:\n",
    "                pass\n",
    "        \n",
    "        images[:, f] = img\n",
    "    \n",
    "    return images, params\n",
    "\n",
    "# Example usage:\n",
    "params = {\n",
    "    'stim': {\n",
    "        1: {'imFile': 'Stimuli/bar_stimulus_masks_1300ms_images.mat', 'paramsFile': 'Stimuli/bar_stimulus_masks_1300ms_params.mat', 'framePeriod': 2, 'nFrames': 100, 'prescanDuration': 10}\n",
    "    },\n",
    "    'analysis': {\n",
    "        'numberStimulusGridPoints': 5,\n",
    "        'fieldSize': 10,\n",
    "        'sampleRate': 1\n",
    "    }\n",
    "}\n",
    "\n",
    "id = 1\n",
    "P, I = subLoadImages(params, id)\n",
    "I = subFilterImages(I, P, params, id)\n",
    "x, y, params = subSamplingGrid(params)\n",
    "I = subSpatialDownsample(I, params)\n",
    "images, params = subTemporalDownsample(I, P, params, id)\n",
    "\n",
    "print(f\"[Main]: Done. Save the images and return.\")\n",
    "print(f\"params['stim'][{id}]['images']: {images}\")\n"
   ]
  },
  {
   "cell_type": "code",
   "execution_count": 5,
   "id": "4788e83b-a8ab-4751-9d74-e8a0228700ed",
   "metadata": {},
   "outputs": [
    {
     "name": "stdout",
     "output_type": "stream",
     "text": [
      "{'stim': {1: {'imFile': 'Stimuli/bar_stimulus_masks_1300ms_images.mat', 'paramsFile': 'Stimuli/bar_stimulus_masks_1300ms_params.mat', 'framePeriod': 2, 'nFrames': 100, 'prescanDuration': 10}}, 'analysis': {'numberStimulusGridPoints': 5, 'fieldSize': 10, 'sampleRate': 1}}\n",
      "[subLoadImages]: Loading images: Stimuli/bar_stimulus_masks_1300ms_images.mat...\n",
      "[subLoadImages]: Loading images for scan 1...\n"
     ]
    },
    {
     "ename": "ValueError",
     "evalue": "Need the image matrix saved from scan",
     "output_type": "error",
     "traceback": [
      "\u001b[0;31m---------------------------------------------------------------------------\u001b[0m",
      "\u001b[0;31mValueError\u001b[0m                                Traceback (most recent call last)",
      "Cell \u001b[0;32mIn[5], line 2\u001b[0m\n\u001b[1;32m      1\u001b[0m \u001b[38;5;28mprint\u001b[39m(params)\n\u001b[0;32m----> 2\u001b[0m P, I \u001b[38;5;241m=\u001b[39m \u001b[43msubLoadImages\u001b[49m\u001b[43m(\u001b[49m\u001b[43mparams\u001b[49m\u001b[43m,\u001b[49m\u001b[43m \u001b[49m\u001b[38;5;28;43mid\u001b[39;49m\u001b[43m)\u001b[49m\n",
      "Cell \u001b[0;32mIn[4], line 25\u001b[0m, in \u001b[0;36msubLoadImages\u001b[0;34m(params, id)\u001b[0m\n\u001b[1;32m     23\u001b[0m imFile \u001b[38;5;241m=\u001b[39m params[\u001b[38;5;124m'\u001b[39m\u001b[38;5;124mstim\u001b[39m\u001b[38;5;124m'\u001b[39m][\u001b[38;5;28mid\u001b[39m][\u001b[38;5;124m'\u001b[39m\u001b[38;5;124mimFile\u001b[39m\u001b[38;5;124m'\u001b[39m]\n\u001b[1;32m     24\u001b[0m \u001b[38;5;28;01mif\u001b[39;00m \u001b[38;5;129;01mnot\u001b[39;00m checkfields(params, \u001b[38;5;124m'\u001b[39m\u001b[38;5;124mstim\u001b[39m\u001b[38;5;124m'\u001b[39m, \u001b[38;5;124m'\u001b[39m\u001b[38;5;124mimFile\u001b[39m\u001b[38;5;124m'\u001b[39m):\n\u001b[0;32m---> 25\u001b[0m     \u001b[38;5;28;01mraise\u001b[39;00m \u001b[38;5;167;01mValueError\u001b[39;00m(\u001b[38;5;124m\"\u001b[39m\u001b[38;5;124mNeed the image matrix saved from scan\u001b[39m\u001b[38;5;124m\"\u001b[39m)\n\u001b[1;32m     27\u001b[0m \u001b[38;5;28;01mif\u001b[39;00m \u001b[38;5;129;01mnot\u001b[39;00m imFile\u001b[38;5;241m.\u001b[39mendswith(\u001b[38;5;124m'\u001b[39m\u001b[38;5;124m.mat\u001b[39m\u001b[38;5;124m'\u001b[39m):\n\u001b[1;32m     28\u001b[0m     imFile \u001b[38;5;241m=\u001b[39m \u001b[38;5;124mf\u001b[39m\u001b[38;5;124m\"\u001b[39m\u001b[38;5;124mStimuli/\u001b[39m\u001b[38;5;132;01m{\u001b[39;00mimFile\u001b[38;5;132;01m}\u001b[39;00m\u001b[38;5;124m\"\u001b[39m\n",
      "\u001b[0;31mValueError\u001b[0m: Need the image matrix saved from scan"
     ]
    }
   ],
   "source": [
    "print(params)\n",
    "P, I = subLoadImages(params, id)\n"
   ]
  },
  {
   "cell_type": "code",
   "execution_count": 7,
   "id": "66f8ee11-ef3b-46bc-9f84-fc18a108b963",
   "metadata": {},
   "outputs": [
    {
     "ename": "UnpicklingError",
     "evalue": "Failed to interpret file 'Stimuli/bar_stimulus_masks_1300ms_images.mat' as a pickle",
     "output_type": "error",
     "traceback": [
      "\u001b[0;31m---------------------------------------------------------------------------\u001b[0m",
      "\u001b[0;31mValueError\u001b[0m                                Traceback (most recent call last)",
      "File \u001b[0;32m~/Documents/GitHub/prf-mapping/myenv/lib/python3.11/site-packages/numpy/lib/npyio.py:465\u001b[0m, in \u001b[0;36mload\u001b[0;34m(file, mmap_mode, allow_pickle, fix_imports, encoding, max_header_size)\u001b[0m\n\u001b[1;32m    464\u001b[0m \u001b[38;5;28;01mtry\u001b[39;00m:\n\u001b[0;32m--> 465\u001b[0m     \u001b[38;5;28;01mreturn\u001b[39;00m \u001b[43mpickle\u001b[49m\u001b[38;5;241;43m.\u001b[39;49m\u001b[43mload\u001b[49m\u001b[43m(\u001b[49m\u001b[43mfid\u001b[49m\u001b[43m,\u001b[49m\u001b[43m \u001b[49m\u001b[38;5;241;43m*\u001b[39;49m\u001b[38;5;241;43m*\u001b[39;49m\u001b[43mpickle_kwargs\u001b[49m\u001b[43m)\u001b[49m\n\u001b[1;32m    466\u001b[0m \u001b[38;5;28;01mexcept\u001b[39;00m \u001b[38;5;167;01mException\u001b[39;00m \u001b[38;5;28;01mas\u001b[39;00m e:\n",
      "\u001b[0;31mValueError\u001b[0m: invalid literal for int() with base 10: 'AB 5.0 MAT-file, Platform: MACI64, Created on: Wed Dec 23 15:16:37 2020                                         '",
      "\nThe above exception was the direct cause of the following exception:\n",
      "\u001b[0;31mUnpicklingError\u001b[0m                           Traceback (most recent call last)",
      "Cell \u001b[0;32mIn[7], line 17\u001b[0m\n\u001b[1;32m     14\u001b[0m paramsFile \u001b[38;5;241m=\u001b[39m \u001b[38;5;124m'\u001b[39m\u001b[38;5;124mStimuli/bar_stimulus_masks_1300ms_params.mat\u001b[39m\u001b[38;5;124m'\u001b[39m\n\u001b[1;32m     16\u001b[0m \u001b[38;5;66;03m# Load images and parameters\u001b[39;00m\n\u001b[0;32m---> 17\u001b[0m P, I \u001b[38;5;241m=\u001b[39m \u001b[43msubLoadImages\u001b[49m\u001b[43m(\u001b[49m\u001b[43mimFile\u001b[49m\u001b[43m,\u001b[49m\u001b[43m \u001b[49m\u001b[43mparamsFile\u001b[49m\u001b[43m)\u001b[49m\n",
      "Cell \u001b[0;32mIn[7], line 3\u001b[0m, in \u001b[0;36msubLoadImages\u001b[0;34m(imFile, paramsFile)\u001b[0m\n\u001b[1;32m      1\u001b[0m \u001b[38;5;28;01mdef\u001b[39;00m \u001b[38;5;21msubLoadImages\u001b[39m(imFile, paramsFile):\n\u001b[1;32m      2\u001b[0m     \u001b[38;5;66;03m# Load image matrix from imFile allowing pickled data\u001b[39;00m\n\u001b[0;32m----> 3\u001b[0m     I \u001b[38;5;241m=\u001b[39m \u001b[43mnp\u001b[49m\u001b[38;5;241;43m.\u001b[39;49m\u001b[43mload\u001b[49m\u001b[43m(\u001b[49m\u001b[43mimFile\u001b[49m\u001b[43m,\u001b[49m\u001b[43m \u001b[49m\u001b[43mallow_pickle\u001b[49m\u001b[38;5;241;43m=\u001b[39;49m\u001b[38;5;28;43;01mTrue\u001b[39;49;00m\u001b[43m)\u001b[49m\n\u001b[1;32m      4\u001b[0m     \u001b[38;5;66;03m# Load params from paramsFile allowing pickled data\u001b[39;00m\n\u001b[1;32m      5\u001b[0m     P \u001b[38;5;241m=\u001b[39m np\u001b[38;5;241m.\u001b[39mload(paramsFile, allow_pickle\u001b[38;5;241m=\u001b[39m\u001b[38;5;28;01mTrue\u001b[39;00m)\n",
      "File \u001b[0;32m~/Documents/GitHub/prf-mapping/myenv/lib/python3.11/site-packages/numpy/lib/npyio.py:467\u001b[0m, in \u001b[0;36mload\u001b[0;34m(file, mmap_mode, allow_pickle, fix_imports, encoding, max_header_size)\u001b[0m\n\u001b[1;32m    465\u001b[0m     \u001b[38;5;28;01mreturn\u001b[39;00m pickle\u001b[38;5;241m.\u001b[39mload(fid, \u001b[38;5;241m*\u001b[39m\u001b[38;5;241m*\u001b[39mpickle_kwargs)\n\u001b[1;32m    466\u001b[0m \u001b[38;5;28;01mexcept\u001b[39;00m \u001b[38;5;167;01mException\u001b[39;00m \u001b[38;5;28;01mas\u001b[39;00m e:\n\u001b[0;32m--> 467\u001b[0m     \u001b[38;5;28;01mraise\u001b[39;00m pickle\u001b[38;5;241m.\u001b[39mUnpicklingError(\n\u001b[1;32m    468\u001b[0m         \u001b[38;5;124mf\u001b[39m\u001b[38;5;124m\"\u001b[39m\u001b[38;5;124mFailed to interpret file \u001b[39m\u001b[38;5;132;01m{\u001b[39;00mfile\u001b[38;5;132;01m!r}\u001b[39;00m\u001b[38;5;124m as a pickle\u001b[39m\u001b[38;5;124m\"\u001b[39m) \u001b[38;5;28;01mfrom\u001b[39;00m \u001b[38;5;21;01me\u001b[39;00m\n",
      "\u001b[0;31mUnpicklingError\u001b[0m: Failed to interpret file 'Stimuli/bar_stimulus_masks_1300ms_images.mat' as a pickle"
     ]
    }
   ],
   "source": [
    "def subLoadImages(imFile, paramsFile):\n",
    "    # Load image matrix from imFile allowing pickled data\n",
    "    I = np.load(imFile, allow_pickle=True)\n",
    "    # Load params from paramsFile allowing pickled data\n",
    "    P = np.load(paramsFile, allow_pickle=True)\n",
    "    return P, I\n",
    "\n",
    "# Define other functions here (subFilterImages, subSamplingGrid, subSpatialDownsample, subTemporalDownsample, etc.)\n",
    "\n",
    "# Example usage:\n",
    "\n",
    "# File paths\n",
    "imFile = 'Stimuli/bar_stimulus_masks_1300ms_images.mat'\n",
    "paramsFile = 'Stimuli/bar_stimulus_masks_1300ms_params.mat'\n",
    "\n",
    "# Load images and parameters\n",
    "P, I = subLoadImages(imFile, paramsFile)"
   ]
  },
  {
   "cell_type": "code",
   "execution_count": 17,
   "id": "5079cd9f-8ef8-4cbb-9b8e-b3e4da7c93a7",
   "metadata": {},
   "outputs": [],
   "source": [
    "from scipy.io import loadmat\n",
    "\n",
    "# Load .mat file\n",
    "img_data = loadmat('Stimuli/bar_stimulus_masks_1300ms_images.mat')"
   ]
  },
  {
   "cell_type": "code",
   "execution_count": 18,
   "id": "e4a06d7e-ab47-4929-a509-a2f6b47fa034",
   "metadata": {},
   "outputs": [
    {
     "name": "stdout",
     "output_type": "stream",
     "text": [
      "Variable Name: __header__\n",
      "Variable Name: __version__\n",
      "Variable Name: __globals__\n",
      "Variable Name: images\n"
     ]
    }
   ],
   "source": [
    "variable_names = img_data.keys()\n",
    "\n",
    "# Print variable names\n",
    "for variable_name in variable_names:\n",
    "    print(f\"Variable Name: {variable_name}\")"
   ]
  },
  {
   "cell_type": "code",
   "execution_count": 19,
   "id": "eae5afe5-cd21-4cd3-8bd2-8d47e4138e25",
   "metadata": {},
   "outputs": [],
   "source": [
    "I = img_data[\"images\"]"
   ]
  },
  {
   "cell_type": "code",
   "execution_count": 20,
   "id": "91ffc65c-5761-49a5-86a7-1773a75a2c8a",
   "metadata": {},
   "outputs": [],
   "source": [
    "params_data = loadmat('Stimuli/bar_stimulus_masks_1300ms_params.mat')"
   ]
  },
  {
   "cell_type": "code",
   "execution_count": 22,
   "id": "7dc4a4fb-1f52-4f7b-a70c-677552c0ff41",
   "metadata": {},
   "outputs": [
    {
     "name": "stdout",
     "output_type": "stream",
     "text": [
      "Variable Name: __header__\n",
      "Variable Name: __version__\n",
      "Variable Name: __globals__\n",
      "Variable Name: stimulus\n"
     ]
    }
   ],
   "source": [
    "variable_names = params_data.keys()\n",
    "\n",
    "# Print variable names\n",
    "for variable_name in variable_names:\n",
    "    print(f\"Variable Name: {variable_name}\")"
   ]
  },
  {
   "cell_type": "code",
   "execution_count": 23,
   "id": "64a52b74-2fcb-4f0f-bfd2-528383fda9fc",
   "metadata": {},
   "outputs": [],
   "source": [
    "P = params_data[\"stimulus\"]"
   ]
  },
  {
   "cell_type": "code",
   "execution_count": 30,
   "id": "abf8ddeb-79a5-4c7d-b5e3-9ca21c93a34a",
   "metadata": {},
   "outputs": [
    {
     "data": {
      "text/plain": [
       "(1, 1)"
      ]
     },
     "execution_count": 30,
     "metadata": {},
     "output_type": "execute_result"
    }
   ],
   "source": [
    "P.shape"
   ]
  },
  {
   "cell_type": "code",
   "execution_count": 25,
   "id": "1a7ea9f0-4cb4-4a54-bd7d-bf3d9eec5810",
   "metadata": {},
   "outputs": [],
   "source": [
    "def subFilterImages(I, P, params, id):\n",
    "    print(\"[subFilterImages]: Filtering images...\")\n",
    "    if not checkfields(params, 'stim', 'imFilter'):\n",
    "        params['stim'][id]['imFilter'] = 'binary'\n",
    "    \n",
    "    # try to determine colormap parameters\n",
    "    try:\n",
    "        display = P['params']['display']\n",
    "    except KeyError:\n",
    "        display = None\n",
    "        print(\"[subFilterImages]: No calibration file found. This may affect image filtering.\")\n",
    "    \n",
    "    # Apply filter (replace with actual filter function)\n",
    "    I['images'] = rmfilter_binary(I['images'], display)\n",
    "    return I"
   ]
  },
  {
   "cell_type": "code",
   "execution_count": 27,
   "id": "ca02632d-fa29-4008-912c-d0b76f116950",
   "metadata": {},
   "outputs": [],
   "source": [
    "params = {\n",
    "    'stim': {\n",
    "        1: {'imFile': 'Stimuli/bar_stimulus_masks_1300ms_images.mat', 'paramsFile': 'Stimuli/bar_stimulus_masks_1300ms_params.mat', 'framePeriod': 2, 'nFrames': 100, 'prescanDuration': 10}\n",
    "    },\n",
    "    'analysis': {\n",
    "        'numberStimulusGridPoints': 5,\n",
    "        'fieldSize': 10,\n",
    "        'sampleRate': 1\n",
    "    }\n",
    "}"
   ]
  },
  {
   "cell_type": "code",
   "execution_count": 28,
   "id": "ca7bfef7-5c04-4681-bf2d-9fb97c42ac49",
   "metadata": {},
   "outputs": [
    {
     "name": "stdout",
     "output_type": "stream",
     "text": [
      "[subFilterImages]: Filtering images...\n"
     ]
    },
    {
     "ename": "ValueError",
     "evalue": "no field of name params",
     "output_type": "error",
     "traceback": [
      "\u001b[0;31m---------------------------------------------------------------------------\u001b[0m",
      "\u001b[0;31mValueError\u001b[0m                                Traceback (most recent call last)",
      "Cell \u001b[0;32mIn[28], line 1\u001b[0m\n\u001b[0;32m----> 1\u001b[0m I \u001b[38;5;241m=\u001b[39m \u001b[43msubFilterImages\u001b[49m\u001b[43m(\u001b[49m\u001b[43mI\u001b[49m\u001b[43m,\u001b[49m\u001b[43m \u001b[49m\u001b[43mP\u001b[49m\u001b[43m,\u001b[49m\u001b[43m \u001b[49m\u001b[43mparams\u001b[49m\u001b[43m,\u001b[49m\u001b[43m \u001b[49m\u001b[38;5;28;43mid\u001b[39;49m\u001b[43m)\u001b[49m\n",
      "Cell \u001b[0;32mIn[25], line 8\u001b[0m, in \u001b[0;36msubFilterImages\u001b[0;34m(I, P, params, id)\u001b[0m\n\u001b[1;32m      6\u001b[0m \u001b[38;5;66;03m# try to determine colormap parameters\u001b[39;00m\n\u001b[1;32m      7\u001b[0m \u001b[38;5;28;01mtry\u001b[39;00m:\n\u001b[0;32m----> 8\u001b[0m     display \u001b[38;5;241m=\u001b[39m \u001b[43mP\u001b[49m\u001b[43m[\u001b[49m\u001b[38;5;124;43m'\u001b[39;49m\u001b[38;5;124;43mparams\u001b[39;49m\u001b[38;5;124;43m'\u001b[39;49m\u001b[43m]\u001b[49m[\u001b[38;5;124m'\u001b[39m\u001b[38;5;124mdisplay\u001b[39m\u001b[38;5;124m'\u001b[39m]\n\u001b[1;32m      9\u001b[0m \u001b[38;5;28;01mexcept\u001b[39;00m \u001b[38;5;167;01mKeyError\u001b[39;00m:\n\u001b[1;32m     10\u001b[0m     display \u001b[38;5;241m=\u001b[39m \u001b[38;5;28;01mNone\u001b[39;00m\n",
      "\u001b[0;31mValueError\u001b[0m: no field of name params"
     ]
    }
   ],
   "source": [
    "I = subFilterImages(I, P, params, id)"
   ]
  },
  {
   "cell_type": "code",
   "execution_count": 31,
   "id": "99a5f6a2-0cd8-46b8-9378-40fff2108bae",
   "metadata": {},
   "outputs": [
    {
     "ename": "AttributeError",
     "evalue": "'numpy.ndarray' object has no attribute 'keys'",
     "output_type": "error",
     "traceback": [
      "\u001b[0;31m---------------------------------------------------------------------------\u001b[0m",
      "\u001b[0;31mAttributeError\u001b[0m                            Traceback (most recent call last)",
      "Cell \u001b[0;32mIn[31], line 1\u001b[0m\n\u001b[0;32m----> 1\u001b[0m \u001b[43mP\u001b[49m\u001b[38;5;241;43m.\u001b[39;49m\u001b[43mkeys\u001b[49m()\n",
      "\u001b[0;31mAttributeError\u001b[0m: 'numpy.ndarray' object has no attribute 'keys'"
     ]
    }
   ],
   "source": [
    "P.keys()"
   ]
  },
  {
   "cell_type": "code",
   "execution_count": 35,
   "id": "37804e11-4a57-4dde-92ea-22848750513b",
   "metadata": {},
   "outputs": [
    {
     "ename": "NameError",
     "evalue": "name 'images' is not defined",
     "output_type": "error",
     "traceback": [
      "\u001b[0;31m---------------------------------------------------------------------------\u001b[0m",
      "\u001b[0;31mNameError\u001b[0m                                 Traceback (most recent call last)",
      "Cell \u001b[0;32mIn[35], line 10\u001b[0m\n\u001b[1;32m      7\u001b[0m frame_index \u001b[38;5;241m=\u001b[39m \u001b[38;5;241m0\u001b[39m\n\u001b[1;32m      9\u001b[0m \u001b[38;5;66;03m# Reshape the flattened image data to its original grid shape\u001b[39;00m\n\u001b[0;32m---> 10\u001b[0m n_samples \u001b[38;5;241m=\u001b[39m \u001b[38;5;28mint\u001b[39m(np\u001b[38;5;241m.\u001b[39msqrt(\u001b[38;5;28mlen\u001b[39m(\u001b[43mimages\u001b[49m)))\n\u001b[1;32m     11\u001b[0m image_grid \u001b[38;5;241m=\u001b[39m images[:, frame_index]\u001b[38;5;241m.\u001b[39mreshape((n_samples, n_samples))\n\u001b[1;32m     13\u001b[0m \u001b[38;5;66;03m# Plot the image\u001b[39;00m\n",
      "\u001b[0;31mNameError\u001b[0m: name 'images' is not defined"
     ]
    }
   ],
   "source": [
    "import matplotlib.pyplot as plt\n",
    "\n",
    "# Assuming 'images' variable contains the processed image data\n",
    "# For example, you can use the provided code to generate 'images'\n",
    "\n",
    "# Visualize a single frame (change index to visualize different frames)\n",
    "frame_index = 0\n",
    "\n",
    "# Reshape the flattened image data to its original grid shape\n",
    "n_samples = int(np.sqrt(len(images)))\n",
    "image_grid = images[:, frame_index].reshape((n_samples, n_samples))\n",
    "\n",
    "# Plot the image\n",
    "plt.figure(figsize=(8, 6))\n",
    "plt.imshow(image_grid, cmap='gray')  # Use cmap='viridis' for a different color map\n",
    "plt.colorbar()\n",
    "plt.title(f\"Processed Image - Frame {frame_index + 1}\")\n",
    "plt.xlabel(\"X\")\n",
    "plt.ylabel(\"Y\")\n",
    "plt.show()"
   ]
  },
  {
   "cell_type": "code",
   "execution_count": null,
   "id": "cf23a96f-c05f-4488-a05f-35f086ba842a",
   "metadata": {},
   "outputs": [],
   "source": []
  }
 ],
 "metadata": {
  "kernelspec": {
   "display_name": "myenv",
   "language": "python",
   "name": "myenv"
  },
  "language_info": {
   "codemirror_mode": {
    "name": "ipython",
    "version": 3
   },
   "file_extension": ".py",
   "mimetype": "text/x-python",
   "name": "python",
   "nbconvert_exporter": "python",
   "pygments_lexer": "ipython3",
   "version": "3.11.5"
  }
 },
 "nbformat": 4,
 "nbformat_minor": 5
}
