{
 "cells": [
  {
   "cell_type": "code",
   "execution_count": 1,
   "id": "7031af06-f14c-4610-9d32-36901277e490",
   "metadata": {},
   "outputs": [],
   "source": [
    "import nibabel as nib"
   ]
  },
  {
   "cell_type": "code",
   "execution_count": 2,
   "id": "1aa3317e-1bde-45a0-9718-d2a00cc40f57",
   "metadata": {},
   "outputs": [],
   "source": [
    "nii = nib.load('/Users/aditya/Documents/GitHub/prf-mapping/temp/December 2023/Output/JC/prf_css.nii.gz')"
   ]
  },
  {
   "cell_type": "code",
   "execution_count": 3,
   "id": "b5b542e5-993d-4bdc-bbe3-215aee6a5b81",
   "metadata": {},
   "outputs": [
    {
     "data": {
      "text/plain": [
       "<nibabel.nifti1.Nifti1Image at 0x10a651790>"
      ]
     },
     "execution_count": 3,
     "metadata": {},
     "output_type": "execute_result"
    }
   ],
   "source": [
    "nii"
   ]
  },
  {
   "cell_type": "code",
   "execution_count": 4,
   "id": "c369136e-0692-451d-ac58-5155eeb19f54",
   "metadata": {},
   "outputs": [],
   "source": [
    "nii_data = nii.get_fdata()"
   ]
  },
  {
   "cell_type": "code",
   "execution_count": 5,
   "id": "2c636493-34ab-467e-8713-56af5953aba8",
   "metadata": {},
   "outputs": [
    {
     "data": {
      "text/plain": [
       "(128, 128, 128, 8)"
      ]
     },
     "execution_count": 5,
     "metadata": {},
     "output_type": "execute_result"
    }
   ],
   "source": [
    "nii_data.shape"
   ]
  },
  {
   "cell_type": "code",
   "execution_count": 6,
   "id": "f1af37cc-6bad-4fae-9baf-65b488d6805c",
   "metadata": {},
   "outputs": [],
   "source": [
    "vista_res = nib.load('/Users/aditya/Documents/GitHub/prf-mapping/temp/December 2023/Vista/original_jc_fit/RF_ss5-fFit.nii.gz')"
   ]
  },
  {
   "cell_type": "code",
   "execution_count": 7,
   "id": "44821d05-eff4-4518-b544-c52e5a182a06",
   "metadata": {},
   "outputs": [
    {
     "data": {
      "text/plain": [
       "<nibabel.nifti1.Nifti1Image at 0x103611950>"
      ]
     },
     "execution_count": 7,
     "metadata": {},
     "output_type": "execute_result"
    }
   ],
   "source": [
    "vista_res"
   ]
  },
  {
   "cell_type": "code",
   "execution_count": 8,
   "id": "75650236-4fae-4b2e-afda-aa4842c50a00",
   "metadata": {},
   "outputs": [],
   "source": [
    "vista_res_data = vista_res.get_fdata()"
   ]
  },
  {
   "cell_type": "code",
   "execution_count": 9,
   "id": "42ce7bda-921e-4257-a17e-1f6bcd4d5974",
   "metadata": {},
   "outputs": [
    {
     "data": {
      "text/plain": [
       "(128, 128, 128, 8)"
      ]
     },
     "execution_count": 9,
     "metadata": {},
     "output_type": "execute_result"
    }
   ],
   "source": [
    "vista_res_data.shape"
   ]
  },
  {
   "cell_type": "code",
   "execution_count": 10,
   "id": "6e520098-2d2c-4a60-86b4-c8016e90ec12",
   "metadata": {},
   "outputs": [
    {
     "data": {
      "text/plain": [
       "numpy.ndarray"
      ]
     },
     "execution_count": 10,
     "metadata": {},
     "output_type": "execute_result"
    }
   ],
   "source": [
    "type(vista_res_data)"
   ]
  },
  {
   "cell_type": "code",
   "execution_count": 11,
   "id": "16185e5f-f9d1-4355-9259-d5fa9a716b3a",
   "metadata": {},
   "outputs": [
    {
     "data": {
      "text/plain": [
       "False"
      ]
     },
     "execution_count": 11,
     "metadata": {},
     "output_type": "execute_result"
    }
   ],
   "source": [
    "import numpy as np\n",
    "\n",
    "equal_elements = np.array_equal(nii_data, vista_res_data)\n",
    "equal_elements"
   ]
  },
  {
   "cell_type": "code",
   "execution_count": 12,
   "id": "b1e53872-1b65-45b0-bbf9-c35aa350f2b9",
   "metadata": {},
   "outputs": [
    {
     "name": "stdout",
     "output_type": "stream",
     "text": [
      "Mean Difference:  -0.2044418272796127\n",
      "Standard Difference:  0.6738207638134068\n"
     ]
    }
   ],
   "source": [
    "mean_difference = np.mean(nii_data) - np.mean(vista_res_data)\n",
    "std_difference = np.std(nii_data) - np.std(vista_res_data)\n",
    "print(\"Mean Difference: \", mean_difference)\n",
    "print(\"Standard Difference: \", std_difference)"
   ]
  },
  {
   "cell_type": "code",
   "execution_count": 13,
   "id": "daa66bad-ac32-44a6-a7cc-0f65fb2127b4",
   "metadata": {},
   "outputs": [],
   "source": [
    "difference_array = nii_data - vista_res_data\n"
   ]
  },
  {
   "cell_type": "code",
   "execution_count": 14,
   "id": "d7dfc965-38f9-4565-b0c4-d8351b6c155f",
   "metadata": {},
   "outputs": [
    {
     "name": "stdout",
     "output_type": "stream",
     "text": [
      "12362.95877623359\n"
     ]
    }
   ],
   "source": [
    "norm_difference = np.linalg.norm(nii_data - vista_res_data)\n",
    "print(norm_difference)"
   ]
  },
  {
   "cell_type": "code",
   "execution_count": 15,
   "id": "0e554ad4-5b26-4c76-8089-b21f9f8a8473",
   "metadata": {},
   "outputs": [
    {
     "name": "stdout",
     "output_type": "stream",
     "text": [
      "[[1.         0.13109136]\n",
      " [0.13109136 1.        ]]\n"
     ]
    }
   ],
   "source": [
    "correlation_matrix = np.corrcoef(nii_data.flatten(), vista_res_data.flatten())\n",
    "print(correlation_matrix)"
   ]
  },
  {
   "cell_type": "code",
   "execution_count": 16,
   "id": "94bd154d-1477-48dd-b4c0-ec10e26490d6",
   "metadata": {},
   "outputs": [
    {
     "ename": "ModuleNotFoundError",
     "evalue": "No module named 'nilearn'",
     "output_type": "error",
     "traceback": [
      "\u001b[0;31m---------------------------------------------------------------------------\u001b[0m",
      "\u001b[0;31mModuleNotFoundError\u001b[0m                       Traceback (most recent call last)",
      "Cell \u001b[0;32mIn[16], line 1\u001b[0m\n\u001b[0;32m----> 1\u001b[0m \u001b[38;5;28;01mfrom\u001b[39;00m \u001b[38;5;21;01mnilearn\u001b[39;00m \u001b[38;5;28;01mimport\u001b[39;00m plotting\n",
      "\u001b[0;31mModuleNotFoundError\u001b[0m: No module named 'nilearn'"
     ]
    }
   ],
   "source": [
    "from nilearn import plotting"
   ]
  },
  {
   "cell_type": "code",
   "execution_count": null,
   "id": "8ec63306-b4fb-446d-9ae1-511d3729a74c",
   "metadata": {},
   "outputs": [],
   "source": []
  }
 ],
 "metadata": {
  "kernelspec": {
   "display_name": "myenv",
   "language": "python",
   "name": "myenv"
  },
  "language_info": {
   "codemirror_mode": {
    "name": "ipython",
    "version": 3
   },
   "file_extension": ".py",
   "mimetype": "text/x-python",
   "name": "python",
   "nbconvert_exporter": "python",
   "pygments_lexer": "ipython3",
   "version": "3.11.5"
  }
 },
 "nbformat": 4,
 "nbformat_minor": 5
}
