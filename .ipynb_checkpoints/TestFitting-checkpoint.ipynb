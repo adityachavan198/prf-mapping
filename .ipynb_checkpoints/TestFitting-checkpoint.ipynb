{
 "cells": [
  {
   "cell_type": "code",
   "execution_count": 1,
   "id": "256c45eb-3593-4a01-827e-1c1cefc8b6e1",
   "metadata": {},
   "outputs": [
    {
     "name": "stdout",
     "output_type": "stream",
     "text": [
      "Generated voxels:\n",
      "[[  8.83522647  -1.31020574   8.28096581   0.96298145   1.13374213]\n",
      " [  1.19978208  -5.39619934   3.05427189   0.27353777   0.1162237 ]\n",
      " [  8.79469655  10.77506638   8.53673187   0.74948047   0.8791161 ]\n",
      " [  9.80560515  -2.7284549    8.36518379   0.5958754    3.75617483]\n",
      " [  4.53775981  11.00804767  11.79746129   0.75776657   3.85178454]\n",
      " [  8.93631237   5.56766137  10.51770597   0.83907798   1.10942458]\n",
      " [  4.20378859   0.26380111   6.6360949    0.98270059   1.11464278]\n",
      " [-10.66305945  -7.93537356   8.08558457   0.3527769    3.54091545]\n",
      " [  7.11441046  -2.90569057   3.59996112   0.59779473   1.89037697]\n",
      " [ -1.16134415  -9.65572331   3.68730279   0.95559832   1.87584248]]\n"
     ]
    }
   ],
   "source": [
    "import numpy as np\n",
    "\n",
    "# Define the number of voxels you want to create\n",
    "num_voxels = 10  # You can change this to any desired number of voxels\n",
    "\n",
    "# Define the bounds for each variable\n",
    "x_bound = (-12.0, 12.0)\n",
    "y_bound = (-12.0, 12.0)\n",
    "s_bound = (1/17.811033313241005, 12.0)\n",
    "b_bound = (1e-8, None)\n",
    "n_bound = (1e-1, 4.0)\n",
    "\n",
    "# Generate random voxel values within the specified bounds using NumPy\n",
    "x_values = np.random.uniform(x_bound[0], x_bound[1], num_voxels)\n",
    "y_values = np.random.uniform(y_bound[0], y_bound[1], num_voxels)\n",
    "sigma_values = np.random.uniform(s_bound[0], s_bound[1], num_voxels)\n",
    "beta_values = np.random.uniform(b_bound[0], b_bound[1] if b_bound[1] is not None else 1.0, num_voxels)\n",
    "n_values = np.random.uniform(n_bound[0], n_bound[1], num_voxels)\n",
    "\n",
    "# Create an array of voxels using NumPy\n",
    "voxels = np.column_stack((x_values, y_values, sigma_values, beta_values, n_values))\n",
    "\n",
    "# Print the generated voxels\n",
    "print(\"Generated voxels:\")\n",
    "print(voxels)\n"
   ]
  }
 ],
 "metadata": {
  "kernelspec": {
   "display_name": "myenv",
   "language": "python",
   "name": "myenv"
  },
  "language_info": {
   "codemirror_mode": {
    "name": "ipython",
    "version": 3
   },
   "file_extension": ".py",
   "mimetype": "text/x-python",
   "name": "python",
   "nbconvert_exporter": "python",
   "pygments_lexer": "ipython3",
   "version": "3.11.5"
  }
 },
 "nbformat": 4,
 "nbformat_minor": 5
}
